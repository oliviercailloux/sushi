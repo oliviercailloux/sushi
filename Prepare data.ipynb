{
 "cells": [
  {
   "cell_type": "code",
   "execution_count": 1,
   "metadata": {},
   "outputs": [],
   "source": [
    "import pandas as pd"
   ]
  },
  {
   "cell_type": "code",
   "execution_count": 37,
   "metadata": {},
   "outputs": [],
   "source": [
    "users = pd.read_csv('sushi3.udata', sep='\\t', names=('uid', 'gender', 'age', 'time', 'old_prefecture', 'old_region', 'old_eastwest', 'prefecture', 'region', 'eastwest', 'same'))"
   ]
  },
  {
   "cell_type": "code",
   "execution_count": 57,
   "metadata": {},
   "outputs": [
    {
     "data": {
      "text/html": [
       "<div>\n",
       "<style scoped>\n",
       "    .dataframe tbody tr th:only-of-type {\n",
       "        vertical-align: middle;\n",
       "    }\n",
       "\n",
       "    .dataframe tbody tr th {\n",
       "        vertical-align: top;\n",
       "    }\n",
       "\n",
       "    .dataframe thead th {\n",
       "        text-align: right;\n",
       "    }\n",
       "</style>\n",
       "<table border=\"1\" class=\"dataframe\">\n",
       "  <thead>\n",
       "    <tr style=\"text-align: right;\">\n",
       "      <th></th>\n",
       "      <th>uid</th>\n",
       "      <th>gender</th>\n",
       "      <th>age</th>\n",
       "      <th>time</th>\n",
       "      <th>old_prefecture</th>\n",
       "      <th>old_region</th>\n",
       "      <th>old_eastwest</th>\n",
       "      <th>prefecture</th>\n",
       "      <th>region</th>\n",
       "      <th>eastwest</th>\n",
       "      <th>same</th>\n",
       "    </tr>\n",
       "  </thead>\n",
       "  <tbody>\n",
       "    <tr>\n",
       "      <th>0</th>\n",
       "      <td>6371</td>\n",
       "      <td>0</td>\n",
       "      <td>2</td>\n",
       "      <td>355</td>\n",
       "      <td>0</td>\n",
       "      <td>0</td>\n",
       "      <td>0</td>\n",
       "      <td>0</td>\n",
       "      <td>0</td>\n",
       "      <td>0</td>\n",
       "      <td>0</td>\n",
       "    </tr>\n",
       "    <tr>\n",
       "      <th>1</th>\n",
       "      <td>10007</td>\n",
       "      <td>1</td>\n",
       "      <td>1</td>\n",
       "      <td>214</td>\n",
       "      <td>26</td>\n",
       "      <td>6</td>\n",
       "      <td>1</td>\n",
       "      <td>26</td>\n",
       "      <td>6</td>\n",
       "      <td>1</td>\n",
       "      <td>0</td>\n",
       "    </tr>\n",
       "    <tr>\n",
       "      <th>2</th>\n",
       "      <td>1777</td>\n",
       "      <td>1</td>\n",
       "      <td>2</td>\n",
       "      <td>363</td>\n",
       "      <td>29</td>\n",
       "      <td>6</td>\n",
       "      <td>1</td>\n",
       "      <td>26</td>\n",
       "      <td>6</td>\n",
       "      <td>1</td>\n",
       "      <td>1</td>\n",
       "    </tr>\n",
       "    <tr>\n",
       "      <th>3</th>\n",
       "      <td>3613</td>\n",
       "      <td>0</td>\n",
       "      <td>4</td>\n",
       "      <td>395</td>\n",
       "      <td>40</td>\n",
       "      <td>9</td>\n",
       "      <td>1</td>\n",
       "      <td>26</td>\n",
       "      <td>6</td>\n",
       "      <td>1</td>\n",
       "      <td>1</td>\n",
       "    </tr>\n",
       "    <tr>\n",
       "      <th>4</th>\n",
       "      <td>8081</td>\n",
       "      <td>1</td>\n",
       "      <td>1</td>\n",
       "      <td>707</td>\n",
       "      <td>26</td>\n",
       "      <td>6</td>\n",
       "      <td>1</td>\n",
       "      <td>36</td>\n",
       "      <td>8</td>\n",
       "      <td>1</td>\n",
       "      <td>1</td>\n",
       "    </tr>\n",
       "  </tbody>\n",
       "</table>\n",
       "</div>"
      ],
      "text/plain": [
       "     uid  gender  age  time  old_prefecture  old_region  old_eastwest  \\\n",
       "0   6371       0    2   355               0           0             0   \n",
       "1  10007       1    1   214              26           6             1   \n",
       "2   1777       1    2   363              29           6             1   \n",
       "3   3613       0    4   395              40           9             1   \n",
       "4   8081       1    1   707              26           6             1   \n",
       "\n",
       "   prefecture  region  eastwest  same  \n",
       "0           0       0         0     0  \n",
       "1          26       6         1     0  \n",
       "2          26       6         1     1  \n",
       "3          26       6         1     1  \n",
       "4          36       8         1     1  "
      ]
     },
     "execution_count": 57,
     "metadata": {},
     "output_type": "execute_result"
    }
   ],
   "source": [
    "users.head()"
   ]
  },
  {
   "cell_type": "code",
   "execution_count": 58,
   "metadata": {},
   "outputs": [
    {
     "data": {
      "text/plain": [
       "877"
      ]
     },
     "execution_count": 58,
     "metadata": {},
     "output_type": "execute_result"
    }
   ],
   "source": [
    "users['time'].max()"
   ]
  },
  {
   "cell_type": "code",
   "execution_count": 38,
   "metadata": {},
   "outputs": [],
   "source": [
    "items = pd.read_csv('sushi3.idata', sep='\\t', names=('iid', 'name', 'style', 'major', 'minor', 'heaviness', 'frequency', 'price', 'popularity'))"
   ]
  },
  {
   "cell_type": "code",
   "execution_count": 16,
   "metadata": {},
   "outputs": [],
   "source": [
    "R = pd.read_csv('sushi3b.5000.10.score', sep=' ', header=None)"
   ]
  },
  {
   "cell_type": "code",
   "execution_count": 14,
   "metadata": {},
   "outputs": [],
   "source": [
    "import numpy as np"
   ]
  },
  {
   "cell_type": "code",
   "execution_count": 30,
   "metadata": {},
   "outputs": [],
   "source": [
    "triplets = []\n",
    "for i, line in enumerate(np.array(R)):\n",
    "    for j, v in enumerate(line):\n",
    "        if v != -1:\n",
    "            triplets.append((i, j, v))"
   ]
  },
  {
   "cell_type": "code",
   "execution_count": 31,
   "metadata": {},
   "outputs": [],
   "source": [
    "triplets = pd.DataFrame(triplets)"
   ]
  },
  {
   "cell_type": "code",
   "execution_count": 28,
   "metadata": {},
   "outputs": [],
   "source": [
    "from surprise import NormalPredictor\n",
    "from surprise import Dataset\n",
    "from surprise import Reader\n",
    "from surprise.model_selection import cross_validate"
   ]
  },
  {
   "cell_type": "code",
   "execution_count": 32,
   "metadata": {},
   "outputs": [
    {
     "data": {
      "text/plain": [
       "50000"
      ]
     },
     "execution_count": 32,
     "metadata": {},
     "output_type": "execute_result"
    }
   ],
   "source": [
    "len(triplets)"
   ]
  },
  {
   "cell_type": "code",
   "execution_count": 33,
   "metadata": {},
   "outputs": [],
   "source": [
    "reader = Reader(rating_scale=(0, 4))\n",
    "data = Dataset.load_from_df(triplets, reader)"
   ]
  },
  {
   "cell_type": "code",
   "execution_count": 52,
   "metadata": {},
   "outputs": [
    {
     "data": {
      "text/plain": [
       "{'test_rmse': array([1.67945053, 1.6617848 , 1.67099799, 1.6709339 , 1.66334078]),\n",
       " 'test_mae': array([1.34219596, 1.31938237, 1.32877073, 1.33617369, 1.32668685]),\n",
       " 'fit_time': (0.048548221588134766,\n",
       "  0.04827404022216797,\n",
       "  0.049672842025756836,\n",
       "  0.04931998252868652,\n",
       "  0.04492783546447754),\n",
       " 'test_time': (0.07823896408081055,\n",
       "  0.08065009117126465,\n",
       "  0.07845592498779297,\n",
       "  0.07151603698730469,\n",
       "  0.06636595726013184)}"
      ]
     },
     "execution_count": 52,
     "metadata": {},
     "output_type": "execute_result"
    }
   ],
   "source": [
    "cross_validate(NormalPredictor(), data, cv=5)"
   ]
  },
  {
   "cell_type": "code",
   "execution_count": 53,
   "metadata": {},
   "outputs": [
    {
     "name": "stdout",
     "output_type": "stream",
     "text": [
      "Estimating biases using als...\n",
      "Estimating biases using als...\n",
      "Estimating biases using als...\n",
      "Estimating biases using als...\n",
      "Estimating biases using als...\n"
     ]
    },
    {
     "data": {
      "text/plain": [
       "{'test_rmse': array([1.14760298, 1.1434182 , 1.13474427, 1.15332481, 1.15031282]),\n",
       " 'test_mae': array([0.93734735, 0.9321307 , 0.92515215, 0.9447453 , 0.94228576]),\n",
       " 'fit_time': (0.047470808029174805,\n",
       "  0.05024313926696777,\n",
       "  0.05152177810668945,\n",
       "  0.0469050407409668,\n",
       "  0.048692941665649414),\n",
       " 'test_time': (0.06548500061035156,\n",
       "  0.0653681755065918,\n",
       "  0.06401300430297852,\n",
       "  0.0656578540802002,\n",
       "  0.05430293083190918)}"
      ]
     },
     "execution_count": 53,
     "metadata": {},
     "output_type": "execute_result"
    }
   ],
   "source": [
    "from surprise import BaselineOnly\n",
    "\n",
    "cross_validate(BaselineOnly(), data, cv=5)"
   ]
  },
  {
   "cell_type": "code",
   "execution_count": 35,
   "metadata": {},
   "outputs": [],
   "source": [
    "from surprise import SVD"
   ]
  },
  {
   "cell_type": "code",
   "execution_count": 78,
   "metadata": {},
   "outputs": [
    {
     "data": {
      "text/plain": [
       "{'test_rmse': array([1.13963885, 1.12947456, 1.14059369, 1.13946482, 1.13123579]),\n",
       " 'test_mae': array([0.92119985, 0.91893264, 0.9252735 , 0.92345343, 0.91644076]),\n",
       " 'fit_time': (0.9610450267791748,\n",
       "  1.022212028503418,\n",
       "  0.9887239933013916,\n",
       "  0.9414162635803223,\n",
       "  0.9597580432891846),\n",
       " 'test_time': (0.07801222801208496,\n",
       "  0.0704200267791748,\n",
       "  0.06885313987731934,\n",
       "  0.06659889221191406,\n",
       "  0.06396198272705078)}"
      ]
     },
     "execution_count": 78,
     "metadata": {},
     "output_type": "execute_result"
    }
   ],
   "source": [
    "cross_validate(SVD(n_factors=10, n_epochs=20), data, cv=5)"
   ]
  },
  {
   "cell_type": "code",
   "execution_count": 64,
   "metadata": {},
   "outputs": [
    {
     "data": {
      "text/plain": [
       "{'age',\n",
       " 'eastwest',\n",
       " 'gender',\n",
       " 'old_eastwest',\n",
       " 'old_prefecture',\n",
       " 'old_region',\n",
       " 'prefecture',\n",
       " 'region',\n",
       " 'same',\n",
       " 'uid'}"
      ]
     },
     "execution_count": 64,
     "metadata": {},
     "output_type": "execute_result"
    }
   ],
   "source": [
    "u_cont = {'time'}\n",
    "u_cat = set(users.columns) - u_cont\n",
    "u_cat"
   ]
  },
  {
   "cell_type": "code",
   "execution_count": 65,
   "metadata": {},
   "outputs": [
    {
     "data": {
      "text/plain": [
       "{'iid', 'major', 'minor', 'style'}"
      ]
     },
     "execution_count": 65,
     "metadata": {},
     "output_type": "execute_result"
    }
   ],
   "source": [
    "i_cont = {'heaviness', 'frequency', 'price', 'popularity'}\n",
    "i_cat = set(items.columns) - i_cont - {'name'}\n",
    "i_cat"
   ]
  },
  {
   "cell_type": "code",
   "execution_count": 66,
   "metadata": {},
   "outputs": [],
   "source": [
    "Xi = []\n",
    "Xv = []\n",
    "y = []\n",
    "for i, j, v in np.array(triplets):\n",
    "    indexes = []\n",
    "    values = []\n",
    "    \n",
    "    indexes.extend(list(users.iloc[i][u_cat]))\n",
    "    values.extend([1] * len(u_cat))\n",
    "    indexes.extend([1] * len(u_cont))\n",
    "    values.extend(list(users.iloc[i][u_cont] / 877))\n",
    "    \n",
    "    indexes.extend(list(items.iloc[j][i_cat]))\n",
    "    values.extend([1] * len(i_cat))\n",
    "    indexes.extend([1] * len(i_cont))\n",
    "    values.extend(list(items.iloc[j][i_cont]))\n",
    "    \n",
    "    assert len(indexes) == len(values)\n",
    "    Xi.append(indexes)\n",
    "    Xv.append(values)\n",
    "    y.append(v)"
   ]
  },
  {
   "cell_type": "code",
   "execution_count": 67,
   "metadata": {},
   "outputs": [
    {
     "data": {
      "text/plain": [
       "(50000, 50000, 50000, 19)"
      ]
     },
     "execution_count": 67,
     "metadata": {},
     "output_type": "execute_result"
    }
   ],
   "source": [
    "len(Xi), len(Xv), len(y), len(Xi[0])"
   ]
  },
  {
   "cell_type": "code",
   "execution_count": 70,
   "metadata": {},
   "outputs": [],
   "source": [
    "import pickle\n",
    "\n",
    "with open('sushi.pickle', 'wb') as f:\n",
    "    # pickle.dump(Xi, f, pickle.HIGHEST_PROTOCOL)\n",
    "    # pickle.dump(Xv, f, pickle.HIGHEST_PROTOCOL)\n",
    "    # pickle.dump(y, f, pickle.HIGHEST_PROTOCOL)\n",
    "    pickle.dump(Xi, f, 2)\n",
    "    pickle.dump(Xv, f, 2)\n",
    "    pickle.dump(y, f, 2)"
   ]
  },
  {
   "cell_type": "code",
   "execution_count": 79,
   "metadata": {},
   "outputs": [
    {
     "data": {
      "text/plain": [
       "(5000, 11)"
      ]
     },
     "execution_count": 79,
     "metadata": {},
     "output_type": "execute_result"
    }
   ],
   "source": [
    "users.shape"
   ]
  },
  {
   "cell_type": "code",
   "execution_count": 80,
   "metadata": {},
   "outputs": [
    {
     "data": {
      "text/plain": [
       "(100, 9)"
      ]
     },
     "execution_count": 80,
     "metadata": {},
     "output_type": "execute_result"
    }
   ],
   "source": [
    "items.shape"
   ]
  },
  {
   "cell_type": "code",
   "execution_count": null,
   "metadata": {},
   "outputs": [],
   "source": []
  }
 ],
 "metadata": {
  "kernelspec": {
   "display_name": "Python 3",
   "language": "python",
   "name": "python3"
  },
  "language_info": {
   "codemirror_mode": {
    "name": "ipython",
    "version": 3
   },
   "file_extension": ".py",
   "mimetype": "text/x-python",
   "name": "python",
   "nbconvert_exporter": "python",
   "pygments_lexer": "ipython3",
   "version": "3.6.5"
  }
 },
 "nbformat": 4,
 "nbformat_minor": 2
}
