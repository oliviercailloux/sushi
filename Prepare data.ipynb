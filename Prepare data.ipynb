{
 "cells": [
  {
   "cell_type": "code",
   "execution_count": 1,
   "metadata": {},
   "outputs": [],
   "source": [
    "import pandas as pd"
   ]
  },
  {
   "cell_type": "code",
   "execution_count": 2,
   "metadata": {},
   "outputs": [],
   "source": [
    "users = pd.read_csv('sushi3.udata', sep='\\t', names=('uid', 'gender', 'age', 'time', 'old_prefecture', 'old_region', 'old_eastwest', 'prefecture', 'region', 'eastwest', 'same'))"
   ]
  },
  {
   "cell_type": "code",
   "execution_count": 3,
   "metadata": {},
   "outputs": [
    {
     "data": {
      "text/html": [
       "<div>\n",
       "<style scoped>\n",
       "    .dataframe tbody tr th:only-of-type {\n",
       "        vertical-align: middle;\n",
       "    }\n",
       "\n",
       "    .dataframe tbody tr th {\n",
       "        vertical-align: top;\n",
       "    }\n",
       "\n",
       "    .dataframe thead th {\n",
       "        text-align: right;\n",
       "    }\n",
       "</style>\n",
       "<table border=\"1\" class=\"dataframe\">\n",
       "  <thead>\n",
       "    <tr style=\"text-align: right;\">\n",
       "      <th></th>\n",
       "      <th>uid</th>\n",
       "      <th>gender</th>\n",
       "      <th>age</th>\n",
       "      <th>time</th>\n",
       "      <th>old_prefecture</th>\n",
       "      <th>old_region</th>\n",
       "      <th>old_eastwest</th>\n",
       "      <th>prefecture</th>\n",
       "      <th>region</th>\n",
       "      <th>eastwest</th>\n",
       "      <th>same</th>\n",
       "    </tr>\n",
       "  </thead>\n",
       "  <tbody>\n",
       "    <tr>\n",
       "      <th>0</th>\n",
       "      <td>6371</td>\n",
       "      <td>0</td>\n",
       "      <td>2</td>\n",
       "      <td>355</td>\n",
       "      <td>0</td>\n",
       "      <td>0</td>\n",
       "      <td>0</td>\n",
       "      <td>0</td>\n",
       "      <td>0</td>\n",
       "      <td>0</td>\n",
       "      <td>0</td>\n",
       "    </tr>\n",
       "    <tr>\n",
       "      <th>1</th>\n",
       "      <td>10007</td>\n",
       "      <td>1</td>\n",
       "      <td>1</td>\n",
       "      <td>214</td>\n",
       "      <td>26</td>\n",
       "      <td>6</td>\n",
       "      <td>1</td>\n",
       "      <td>26</td>\n",
       "      <td>6</td>\n",
       "      <td>1</td>\n",
       "      <td>0</td>\n",
       "    </tr>\n",
       "    <tr>\n",
       "      <th>2</th>\n",
       "      <td>1777</td>\n",
       "      <td>1</td>\n",
       "      <td>2</td>\n",
       "      <td>363</td>\n",
       "      <td>29</td>\n",
       "      <td>6</td>\n",
       "      <td>1</td>\n",
       "      <td>26</td>\n",
       "      <td>6</td>\n",
       "      <td>1</td>\n",
       "      <td>1</td>\n",
       "    </tr>\n",
       "    <tr>\n",
       "      <th>3</th>\n",
       "      <td>3613</td>\n",
       "      <td>0</td>\n",
       "      <td>4</td>\n",
       "      <td>395</td>\n",
       "      <td>40</td>\n",
       "      <td>9</td>\n",
       "      <td>1</td>\n",
       "      <td>26</td>\n",
       "      <td>6</td>\n",
       "      <td>1</td>\n",
       "      <td>1</td>\n",
       "    </tr>\n",
       "    <tr>\n",
       "      <th>4</th>\n",
       "      <td>8081</td>\n",
       "      <td>1</td>\n",
       "      <td>1</td>\n",
       "      <td>707</td>\n",
       "      <td>26</td>\n",
       "      <td>6</td>\n",
       "      <td>1</td>\n",
       "      <td>36</td>\n",
       "      <td>8</td>\n",
       "      <td>1</td>\n",
       "      <td>1</td>\n",
       "    </tr>\n",
       "  </tbody>\n",
       "</table>\n",
       "</div>"
      ],
      "text/plain": [
       "     uid  gender  age  time  old_prefecture  old_region  old_eastwest  \\\n",
       "0   6371       0    2   355               0           0             0   \n",
       "1  10007       1    1   214              26           6             1   \n",
       "2   1777       1    2   363              29           6             1   \n",
       "3   3613       0    4   395              40           9             1   \n",
       "4   8081       1    1   707              26           6             1   \n",
       "\n",
       "   prefecture  region  eastwest  same  \n",
       "0           0       0         0     0  \n",
       "1          26       6         1     0  \n",
       "2          26       6         1     1  \n",
       "3          26       6         1     1  \n",
       "4          36       8         1     1  "
      ]
     },
     "execution_count": 3,
     "metadata": {},
     "output_type": "execute_result"
    }
   ],
   "source": [
    "users.head()"
   ]
  },
  {
   "cell_type": "code",
   "execution_count": 4,
   "metadata": {},
   "outputs": [
    {
     "data": {
      "text/plain": [
       "877"
      ]
     },
     "execution_count": 4,
     "metadata": {},
     "output_type": "execute_result"
    }
   ],
   "source": [
    "users['time'].max()"
   ]
  },
  {
   "cell_type": "code",
   "execution_count": 5,
   "metadata": {},
   "outputs": [],
   "source": [
    "items = pd.read_csv('sushi3.idata', sep='\\t', names=('iid', 'name', 'style', 'major', 'minor', 'heaviness', 'frequency', 'price', 'popularity'))"
   ]
  },
  {
   "cell_type": "code",
   "execution_count": 6,
   "metadata": {},
   "outputs": [],
   "source": [
    "R = pd.read_csv('sushi3b.5000.10.score', sep=' ', header=None)"
   ]
  },
  {
   "cell_type": "code",
   "execution_count": 7,
   "metadata": {},
   "outputs": [],
   "source": [
    "import numpy as np"
   ]
  },
  {
   "cell_type": "code",
   "execution_count": 8,
   "metadata": {},
   "outputs": [],
   "source": [
    "triplets = []\n",
    "for i, line in enumerate(np.array(R)):\n",
    "    for j, v in enumerate(line):\n",
    "        if v != -1:\n",
    "            triplets.append((i, j, v))"
   ]
  },
  {
   "cell_type": "code",
   "execution_count": 9,
   "metadata": {},
   "outputs": [],
   "source": [
    "triplets = pd.DataFrame(triplets)"
   ]
  },
  {
   "cell_type": "code",
   "execution_count": 10,
   "metadata": {},
   "outputs": [],
   "source": [
    "from surprise import NormalPredictor\n",
    "from surprise import Dataset\n",
    "from surprise import Reader\n",
    "from surprise.model_selection import cross_validate"
   ]
  },
  {
   "cell_type": "code",
   "execution_count": 11,
   "metadata": {},
   "outputs": [
    {
     "data": {
      "text/plain": [
       "50000"
      ]
     },
     "execution_count": 11,
     "metadata": {},
     "output_type": "execute_result"
    }
   ],
   "source": [
    "len(triplets)"
   ]
  },
  {
   "cell_type": "code",
   "execution_count": 12,
   "metadata": {},
   "outputs": [],
   "source": [
    "reader = Reader(rating_scale=(0, 4))\n",
    "data = Dataset.load_from_df(triplets, reader)"
   ]
  },
  {
   "cell_type": "code",
   "execution_count": 13,
   "metadata": {},
   "outputs": [
    {
     "data": {
      "text/plain": [
       "{'test_rmse': array([1.67728431, 1.66162576, 1.64635649, 1.66936441, 1.64984544]),\n",
       " 'test_mae': array([1.33548377, 1.32305269, 1.31240066, 1.33518886, 1.30948637]),\n",
       " 'fit_time': (0.04904794692993164,\n",
       "  0.059880971908569336,\n",
       "  0.06375789642333984,\n",
       "  0.05938267707824707,\n",
       "  0.059957027435302734),\n",
       " 'test_time': (0.1363687515258789,\n",
       "  0.06699490547180176,\n",
       "  0.10964012145996094,\n",
       "  0.06799674034118652,\n",
       "  0.11223101615905762)}"
      ]
     },
     "execution_count": 13,
     "metadata": {},
     "output_type": "execute_result"
    }
   ],
   "source": [
    "cross_validate(NormalPredictor(), data, cv=5)"
   ]
  },
  {
   "cell_type": "code",
   "execution_count": 14,
   "metadata": {},
   "outputs": [
    {
     "name": "stdout",
     "output_type": "stream",
     "text": [
      "Estimating biases using als...\n",
      "Estimating biases using als...\n",
      "Estimating biases using als...\n",
      "Estimating biases using als...\n",
      "Estimating biases using als...\n"
     ]
    },
    {
     "data": {
      "text/plain": [
       "{'test_rmse': array([1.1453357 , 1.14573844, 1.15469846, 1.14166872, 1.13637492]),\n",
       " 'test_mae': array([0.93761212, 0.93457427, 0.94300041, 0.93410233, 0.92740529]),\n",
       " 'fit_time': (0.11309432983398438,\n",
       "  0.13320255279541016,\n",
       "  0.11574029922485352,\n",
       "  0.12347936630249023,\n",
       "  0.11876320838928223),\n",
       " 'test_time': (0.051605939865112305,\n",
       "  0.09645247459411621,\n",
       "  0.052013397216796875,\n",
       "  0.08857560157775879,\n",
       "  0.05341339111328125)}"
      ]
     },
     "execution_count": 14,
     "metadata": {},
     "output_type": "execute_result"
    }
   ],
   "source": [
    "from surprise import BaselineOnly\n",
    "\n",
    "cross_validate(BaselineOnly(), data, cv=5)"
   ]
  },
  {
   "cell_type": "code",
   "execution_count": 15,
   "metadata": {},
   "outputs": [],
   "source": [
    "from surprise import SVD"
   ]
  },
  {
   "cell_type": "code",
   "execution_count": 16,
   "metadata": {},
   "outputs": [
    {
     "data": {
      "text/plain": [
       "{'test_rmse': array([1.14201016, 1.14097713, 1.12220179, 1.13729438, 1.1393489 ]),\n",
       " 'test_mae': array([0.92381361, 0.92429428, 0.90822234, 0.92654559, 0.92607855]),\n",
       " 'fit_time': (0.8296024799346924,\n",
       "  0.8453769683837891,\n",
       "  0.8499362468719482,\n",
       "  0.8429224491119385,\n",
       "  0.849799394607544),\n",
       " 'test_time': (0.1134042739868164,\n",
       "  0.0767831802368164,\n",
       "  0.11213040351867676,\n",
       "  0.07719135284423828,\n",
       "  0.1117098331451416)}"
      ]
     },
     "execution_count": 16,
     "metadata": {},
     "output_type": "execute_result"
    }
   ],
   "source": [
    "cross_validate(SVD(n_factors=10, n_epochs=20), data, cv=5)"
   ]
  },
  {
   "cell_type": "code",
   "execution_count": 17,
   "metadata": {},
   "outputs": [
    {
     "data": {
      "text/plain": [
       "{'age',\n",
       " 'eastwest',\n",
       " 'gender',\n",
       " 'old_eastwest',\n",
       " 'old_prefecture',\n",
       " 'old_region',\n",
       " 'prefecture',\n",
       " 'region',\n",
       " 'same',\n",
       " 'uid'}"
      ]
     },
     "execution_count": 17,
     "metadata": {},
     "output_type": "execute_result"
    }
   ],
   "source": [
    "u_cont = {'time'}\n",
    "u_cat = set(users.columns) - u_cont\n",
    "u_cat"
   ]
  },
  {
   "cell_type": "code",
   "execution_count": 18,
   "metadata": {},
   "outputs": [
    {
     "data": {
      "text/plain": [
       "{'iid', 'major', 'minor', 'style'}"
      ]
     },
     "execution_count": 18,
     "metadata": {},
     "output_type": "execute_result"
    }
   ],
   "source": [
    "i_cont = {'heaviness', 'frequency', 'price', 'popularity'}\n",
    "i_cat = set(items.columns) - i_cont - {'name'}\n",
    "i_cat"
   ]
  },
  {
   "cell_type": "code",
   "execution_count": 19,
   "metadata": {},
   "outputs": [],
   "source": [
    "Xi = []\n",
    "Xv = []\n",
    "y = []\n",
    "for i, j, v in np.array(triplets):\n",
    "    indexes = []\n",
    "    values = []\n",
    "    \n",
    "    indexes.extend(list(users.iloc[i][u_cat]))\n",
    "    values.extend([1] * len(u_cat))\n",
    "    indexes.extend([1] * len(u_cont))\n",
    "    values.extend(list(users.iloc[i][u_cont] / 877))\n",
    "    \n",
    "    indexes.extend(list(items.iloc[j][i_cat]))\n",
    "    values.extend([1] * len(i_cat))\n",
    "    indexes.extend([1] * len(i_cont))\n",
    "    values.extend(list(items.iloc[j][i_cont]))\n",
    "    \n",
    "    assert len(indexes) == len(values)\n",
    "    Xi.append(indexes)\n",
    "    Xv.append(values)\n",
    "    y.append(v)"
   ]
  },
  {
   "cell_type": "code",
   "execution_count": 20,
   "metadata": {},
   "outputs": [
    {
     "data": {
      "text/plain": [
       "(50000, 50000, 50000, 19)"
      ]
     },
     "execution_count": 20,
     "metadata": {},
     "output_type": "execute_result"
    }
   ],
   "source": [
    "len(Xi), len(Xv), len(y), len(Xi[0])"
   ]
  },
  {
   "cell_type": "code",
   "execution_count": 21,
   "metadata": {},
   "outputs": [],
   "source": [
    "import pickle\n",
    "\n",
    "with open('sushi.pickle', 'wb') as f:\n",
    "    # pickle.dump(Xi, f, pickle.HIGHEST_PROTOCOL)\n",
    "    # pickle.dump(Xv, f, pickle.HIGHEST_PROTOCOL)\n",
    "    # pickle.dump(y, f, pickle.HIGHEST_PROTOCOL)\n",
    "    pickle.dump(Xi, f, 2)\n",
    "    pickle.dump(Xv, f, 2)\n",
    "    pickle.dump(y, f, 2)"
   ]
  },
  {
   "cell_type": "code",
   "execution_count": 22,
   "metadata": {},
   "outputs": [
    {
     "data": {
      "text/plain": [
       "(5000, 11)"
      ]
     },
     "execution_count": 22,
     "metadata": {},
     "output_type": "execute_result"
    }
   ],
   "source": [
    "users.shape"
   ]
  },
  {
   "cell_type": "code",
   "execution_count": 23,
   "metadata": {},
   "outputs": [
    {
     "data": {
      "text/plain": [
       "(100, 9)"
      ]
     },
     "execution_count": 23,
     "metadata": {},
     "output_type": "execute_result"
    }
   ],
   "source": [
    "items.shape"
   ]
  },
  {
   "cell_type": "code",
   "execution_count": null,
   "metadata": {},
   "outputs": [],
   "source": []
  },
  {
   "cell_type": "code",
   "execution_count": null,
   "metadata": {},
   "outputs": [],
   "source": []
  }
 ],
 "metadata": {
  "kernelspec": {
   "display_name": "Python 3",
   "language": "python",
   "name": "python3"
  },
  "language_info": {
   "codemirror_mode": {
    "name": "ipython",
    "version": 3
   },
   "file_extension": ".py",
   "mimetype": "text/x-python",
   "name": "python",
   "nbconvert_exporter": "python",
   "pygments_lexer": "ipython3",
   "version": "3.6.6"
  }
 },
 "nbformat": 4,
 "nbformat_minor": 2
}
